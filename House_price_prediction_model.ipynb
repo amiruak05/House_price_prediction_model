{
 "cells": [
  {
   "cell_type": "code",
   "execution_count": 1,
   "metadata": {
    "_cell_guid": "b1076dfc-b9ad-4769-8c92-a6c4dae69d19",
    "_uuid": "8f2839f25d086af736a60e9eeb907d3b93b6e0e5",
    "execution": {
     "iopub.execute_input": "2023-03-19T12:06:54.620278Z",
     "iopub.status.busy": "2023-03-19T12:06:54.619810Z",
     "iopub.status.idle": "2023-03-19T12:06:54.628587Z",
     "shell.execute_reply": "2023-03-19T12:06:54.626878Z",
     "shell.execute_reply.started": "2023-03-19T12:06:54.620242Z"
    }
   },
   "outputs": [],
   "source": [
    "import numpy as np\n",
    "import pandas as pd\n",
    "import matplotlib.pyplot as plt\n",
    "import seaborn as sns"
   ]
  },
  {
   "cell_type": "markdown",
   "metadata": {},
   "source": [
    "#### We are going to import our cleaned dataset, From my Data Preprocessing Project"
   ]
  },
  {
   "cell_type": "code",
   "execution_count": 6,
   "metadata": {
    "execution": {
     "iopub.execute_input": "2023-03-19T12:31:36.682478Z",
     "iopub.status.busy": "2023-03-19T12:31:36.682023Z",
     "iopub.status.idle": "2023-03-19T12:31:36.779681Z",
     "shell.execute_reply": "2023-03-19T12:31:36.778581Z",
     "shell.execute_reply.started": "2023-03-19T12:31:36.682440Z"
    }
   },
   "outputs": [],
   "source": [
    "df = pd.read_csv(\"../DATA/AMES_Final_DF.csv\")"
   ]
  },
  {
   "cell_type": "code",
   "execution_count": 7,
   "metadata": {
    "execution": {
     "iopub.execute_input": "2023-03-19T12:32:58.487895Z",
     "iopub.status.busy": "2023-03-19T12:32:58.487512Z",
     "iopub.status.idle": "2023-03-19T12:32:58.531009Z",
     "shell.execute_reply": "2023-03-19T12:32:58.529689Z",
     "shell.execute_reply.started": "2023-03-19T12:32:58.487859Z"
    }
   },
   "outputs": [
    {
     "data": {
      "text/html": [
       "<div>\n",
       "<style scoped>\n",
       "    .dataframe tbody tr th:only-of-type {\n",
       "        vertical-align: middle;\n",
       "    }\n",
       "\n",
       "    .dataframe tbody tr th {\n",
       "        vertical-align: top;\n",
       "    }\n",
       "\n",
       "    .dataframe thead th {\n",
       "        text-align: right;\n",
       "    }\n",
       "</style>\n",
       "<table border=\"1\" class=\"dataframe\">\n",
       "  <thead>\n",
       "    <tr style=\"text-align: right;\">\n",
       "      <th></th>\n",
       "      <th>Lot Frontage</th>\n",
       "      <th>Lot Area</th>\n",
       "      <th>Overall Qual</th>\n",
       "      <th>Overall Cond</th>\n",
       "      <th>Year Built</th>\n",
       "      <th>Year Remod/Add</th>\n",
       "      <th>Mas Vnr Area</th>\n",
       "      <th>BsmtFin SF 1</th>\n",
       "      <th>BsmtFin SF 2</th>\n",
       "      <th>Bsmt Unf SF</th>\n",
       "      <th>...</th>\n",
       "      <th>Sale Type_ConLw</th>\n",
       "      <th>Sale Type_New</th>\n",
       "      <th>Sale Type_Oth</th>\n",
       "      <th>Sale Type_VWD</th>\n",
       "      <th>Sale Type_WD</th>\n",
       "      <th>Sale Condition_AdjLand</th>\n",
       "      <th>Sale Condition_Alloca</th>\n",
       "      <th>Sale Condition_Family</th>\n",
       "      <th>Sale Condition_Normal</th>\n",
       "      <th>Sale Condition_Partial</th>\n",
       "    </tr>\n",
       "  </thead>\n",
       "  <tbody>\n",
       "    <tr>\n",
       "      <th>0</th>\n",
       "      <td>141.0</td>\n",
       "      <td>31770</td>\n",
       "      <td>6</td>\n",
       "      <td>5</td>\n",
       "      <td>1960</td>\n",
       "      <td>1960</td>\n",
       "      <td>112.0</td>\n",
       "      <td>639.0</td>\n",
       "      <td>0.0</td>\n",
       "      <td>441.0</td>\n",
       "      <td>...</td>\n",
       "      <td>0</td>\n",
       "      <td>0</td>\n",
       "      <td>0</td>\n",
       "      <td>0</td>\n",
       "      <td>1</td>\n",
       "      <td>0</td>\n",
       "      <td>0</td>\n",
       "      <td>0</td>\n",
       "      <td>1</td>\n",
       "      <td>0</td>\n",
       "    </tr>\n",
       "    <tr>\n",
       "      <th>1</th>\n",
       "      <td>80.0</td>\n",
       "      <td>11622</td>\n",
       "      <td>5</td>\n",
       "      <td>6</td>\n",
       "      <td>1961</td>\n",
       "      <td>1961</td>\n",
       "      <td>0.0</td>\n",
       "      <td>468.0</td>\n",
       "      <td>144.0</td>\n",
       "      <td>270.0</td>\n",
       "      <td>...</td>\n",
       "      <td>0</td>\n",
       "      <td>0</td>\n",
       "      <td>0</td>\n",
       "      <td>0</td>\n",
       "      <td>1</td>\n",
       "      <td>0</td>\n",
       "      <td>0</td>\n",
       "      <td>0</td>\n",
       "      <td>1</td>\n",
       "      <td>0</td>\n",
       "    </tr>\n",
       "    <tr>\n",
       "      <th>2</th>\n",
       "      <td>81.0</td>\n",
       "      <td>14267</td>\n",
       "      <td>6</td>\n",
       "      <td>6</td>\n",
       "      <td>1958</td>\n",
       "      <td>1958</td>\n",
       "      <td>108.0</td>\n",
       "      <td>923.0</td>\n",
       "      <td>0.0</td>\n",
       "      <td>406.0</td>\n",
       "      <td>...</td>\n",
       "      <td>0</td>\n",
       "      <td>0</td>\n",
       "      <td>0</td>\n",
       "      <td>0</td>\n",
       "      <td>1</td>\n",
       "      <td>0</td>\n",
       "      <td>0</td>\n",
       "      <td>0</td>\n",
       "      <td>1</td>\n",
       "      <td>0</td>\n",
       "    </tr>\n",
       "    <tr>\n",
       "      <th>3</th>\n",
       "      <td>93.0</td>\n",
       "      <td>11160</td>\n",
       "      <td>7</td>\n",
       "      <td>5</td>\n",
       "      <td>1968</td>\n",
       "      <td>1968</td>\n",
       "      <td>0.0</td>\n",
       "      <td>1065.0</td>\n",
       "      <td>0.0</td>\n",
       "      <td>1045.0</td>\n",
       "      <td>...</td>\n",
       "      <td>0</td>\n",
       "      <td>0</td>\n",
       "      <td>0</td>\n",
       "      <td>0</td>\n",
       "      <td>1</td>\n",
       "      <td>0</td>\n",
       "      <td>0</td>\n",
       "      <td>0</td>\n",
       "      <td>1</td>\n",
       "      <td>0</td>\n",
       "    </tr>\n",
       "    <tr>\n",
       "      <th>4</th>\n",
       "      <td>74.0</td>\n",
       "      <td>13830</td>\n",
       "      <td>5</td>\n",
       "      <td>5</td>\n",
       "      <td>1997</td>\n",
       "      <td>1998</td>\n",
       "      <td>0.0</td>\n",
       "      <td>791.0</td>\n",
       "      <td>0.0</td>\n",
       "      <td>137.0</td>\n",
       "      <td>...</td>\n",
       "      <td>0</td>\n",
       "      <td>0</td>\n",
       "      <td>0</td>\n",
       "      <td>0</td>\n",
       "      <td>1</td>\n",
       "      <td>0</td>\n",
       "      <td>0</td>\n",
       "      <td>0</td>\n",
       "      <td>1</td>\n",
       "      <td>0</td>\n",
       "    </tr>\n",
       "  </tbody>\n",
       "</table>\n",
       "<p>5 rows × 274 columns</p>\n",
       "</div>"
      ],
      "text/plain": [
       "   Lot Frontage  Lot Area  Overall Qual  Overall Cond  Year Built  \\\n",
       "0         141.0     31770             6             5        1960   \n",
       "1          80.0     11622             5             6        1961   \n",
       "2          81.0     14267             6             6        1958   \n",
       "3          93.0     11160             7             5        1968   \n",
       "4          74.0     13830             5             5        1997   \n",
       "\n",
       "   Year Remod/Add  Mas Vnr Area  BsmtFin SF 1  BsmtFin SF 2  Bsmt Unf SF  ...  \\\n",
       "0            1960         112.0         639.0           0.0        441.0  ...   \n",
       "1            1961           0.0         468.0         144.0        270.0  ...   \n",
       "2            1958         108.0         923.0           0.0        406.0  ...   \n",
       "3            1968           0.0        1065.0           0.0       1045.0  ...   \n",
       "4            1998           0.0         791.0           0.0        137.0  ...   \n",
       "\n",
       "   Sale Type_ConLw  Sale Type_New  Sale Type_Oth  Sale Type_VWD  \\\n",
       "0                0              0              0              0   \n",
       "1                0              0              0              0   \n",
       "2                0              0              0              0   \n",
       "3                0              0              0              0   \n",
       "4                0              0              0              0   \n",
       "\n",
       "   Sale Type_WD   Sale Condition_AdjLand  Sale Condition_Alloca  \\\n",
       "0              1                       0                      0   \n",
       "1              1                       0                      0   \n",
       "2              1                       0                      0   \n",
       "3              1                       0                      0   \n",
       "4              1                       0                      0   \n",
       "\n",
       "   Sale Condition_Family  Sale Condition_Normal  Sale Condition_Partial  \n",
       "0                      0                      1                       0  \n",
       "1                      0                      1                       0  \n",
       "2                      0                      1                       0  \n",
       "3                      0                      1                       0  \n",
       "4                      0                      1                       0  \n",
       "\n",
       "[5 rows x 274 columns]"
      ]
     },
     "execution_count": 7,
     "metadata": {},
     "output_type": "execute_result"
    }
   ],
   "source": [
    "df.head()"
   ]
  },
  {
   "cell_type": "code",
   "execution_count": 8,
   "metadata": {
    "execution": {
     "iopub.execute_input": "2023-03-19T12:33:40.432540Z",
     "iopub.status.busy": "2023-03-19T12:33:40.432099Z",
     "iopub.status.idle": "2023-03-19T12:33:40.470494Z",
     "shell.execute_reply": "2023-03-19T12:33:40.467519Z",
     "shell.execute_reply.started": "2023-03-19T12:33:40.432501Z"
    }
   },
   "outputs": [
    {
     "name": "stdout",
     "output_type": "stream",
     "text": [
      "<class 'pandas.core.frame.DataFrame'>\n",
      "RangeIndex: 2925 entries, 0 to 2924\n",
      "Columns: 274 entries, Lot Frontage to Sale Condition_Partial\n",
      "dtypes: float64(11), int64(263)\n",
      "memory usage: 6.1 MB\n"
     ]
    }
   ],
   "source": [
    "df.info()"
   ]
  },
  {
   "cell_type": "code",
   "execution_count": 9,
   "metadata": {
    "execution": {
     "iopub.execute_input": "2023-03-19T12:35:52.903065Z",
     "iopub.status.busy": "2023-03-19T12:35:52.902660Z",
     "iopub.status.idle": "2023-03-19T12:35:52.911479Z",
     "shell.execute_reply": "2023-03-19T12:35:52.909649Z",
     "shell.execute_reply.started": "2023-03-19T12:35:52.903028Z"
    }
   },
   "outputs": [],
   "source": [
    "X = df.drop(\"SalePrice\", axis=1)"
   ]
  },
  {
   "cell_type": "code",
   "execution_count": 10,
   "metadata": {
    "execution": {
     "iopub.execute_input": "2023-03-19T12:36:50.660044Z",
     "iopub.status.busy": "2023-03-19T12:36:50.659660Z",
     "iopub.status.idle": "2023-03-19T12:36:50.665742Z",
     "shell.execute_reply": "2023-03-19T12:36:50.663909Z",
     "shell.execute_reply.started": "2023-03-19T12:36:50.660010Z"
    }
   },
   "outputs": [],
   "source": [
    "y = df[\"SalePrice\"]"
   ]
  },
  {
   "cell_type": "code",
   "execution_count": 11,
   "metadata": {
    "execution": {
     "iopub.execute_input": "2023-03-19T12:38:08.258103Z",
     "iopub.status.busy": "2023-03-19T12:38:08.257701Z",
     "iopub.status.idle": "2023-03-19T12:38:08.264420Z",
     "shell.execute_reply": "2023-03-19T12:38:08.262943Z",
     "shell.execute_reply.started": "2023-03-19T12:38:08.258071Z"
    }
   },
   "outputs": [],
   "source": [
    "from sklearn.model_selection import train_test_split"
   ]
  },
  {
   "cell_type": "markdown",
   "metadata": {},
   "source": [
    "#### I am holding out 10% of the data to test  the model on a data it's never saw"
   ]
  },
  {
   "cell_type": "code",
   "execution_count": 12,
   "metadata": {
    "execution": {
     "iopub.execute_input": "2023-03-19T12:40:59.400725Z",
     "iopub.status.busy": "2023-03-19T12:40:59.400302Z",
     "iopub.status.idle": "2023-03-19T12:40:59.416055Z",
     "shell.execute_reply": "2023-03-19T12:40:59.414734Z",
     "shell.execute_reply.started": "2023-03-19T12:40:59.400689Z"
    }
   },
   "outputs": [],
   "source": [
    "X_train, X_test, y_train, y_test = train_test_split(X, y, test_size=0.1, random_state=50)"
   ]
  },
  {
   "cell_type": "code",
   "execution_count": 13,
   "metadata": {
    "execution": {
     "iopub.execute_input": "2023-03-19T12:42:21.369036Z",
     "iopub.status.busy": "2023-03-19T12:42:21.368658Z",
     "iopub.status.idle": "2023-03-19T12:42:21.375770Z",
     "shell.execute_reply": "2023-03-19T12:42:21.374057Z",
     "shell.execute_reply.started": "2023-03-19T12:42:21.369001Z"
    }
   },
   "outputs": [],
   "source": [
    "from sklearn.preprocessing import StandardScaler"
   ]
  },
  {
   "cell_type": "code",
   "execution_count": 14,
   "metadata": {
    "execution": {
     "iopub.execute_input": "2023-03-19T12:42:42.597153Z",
     "iopub.status.busy": "2023-03-19T12:42:42.596729Z",
     "iopub.status.idle": "2023-03-19T12:42:42.603694Z",
     "shell.execute_reply": "2023-03-19T12:42:42.602255Z",
     "shell.execute_reply.started": "2023-03-19T12:42:42.597117Z"
    }
   },
   "outputs": [],
   "source": [
    "scaler = StandardScaler()  # scales the training data from 0 to 1"
   ]
  },
  {
   "cell_type": "code",
   "execution_count": 15,
   "metadata": {
    "execution": {
     "iopub.execute_input": "2023-03-19T12:43:40.056047Z",
     "iopub.status.busy": "2023-03-19T12:43:40.055661Z",
     "iopub.status.idle": "2023-03-19T12:43:40.078343Z",
     "shell.execute_reply": "2023-03-19T12:43:40.076567Z",
     "shell.execute_reply.started": "2023-03-19T12:43:40.056012Z"
    }
   },
   "outputs": [],
   "source": [
    "scaled_X_train = scaler.fit_transform(X_train)"
   ]
  },
  {
   "cell_type": "code",
   "execution_count": 16,
   "metadata": {
    "execution": {
     "iopub.execute_input": "2023-03-19T12:47:50.668827Z",
     "iopub.status.busy": "2023-03-19T12:47:50.668459Z",
     "iopub.status.idle": "2023-03-19T12:47:50.678639Z",
     "shell.execute_reply": "2023-03-19T12:47:50.677168Z",
     "shell.execute_reply.started": "2023-03-19T12:47:50.668791Z"
    }
   },
   "outputs": [],
   "source": [
    "scaled_X_test = scaler.transform(X_test)"
   ]
  },
  {
   "cell_type": "markdown",
   "metadata": {},
   "source": [
    "#### We are not fitting the the test data because we don't want the model to know the test data"
   ]
  },
  {
   "cell_type": "markdown",
   "metadata": {},
   "source": [
    "#### We are creating an instance of the ElasticNet model, this will help the model in reducing overfitting and underfitting on the training data\n"
   ]
  },
  {
   "cell_type": "code",
   "execution_count": 17,
   "metadata": {
    "execution": {
     "iopub.execute_input": "2023-03-19T12:50:59.343893Z",
     "iopub.status.busy": "2023-03-19T12:50:59.343524Z",
     "iopub.status.idle": "2023-03-19T12:50:59.348096Z",
     "shell.execute_reply": "2023-03-19T12:50:59.347197Z",
     "shell.execute_reply.started": "2023-03-19T12:50:59.343859Z"
    }
   },
   "outputs": [],
   "source": [
    "from sklearn.linear_model import ElasticNet"
   ]
  },
  {
   "cell_type": "markdown",
   "metadata": {},
   "source": [
    "* Creating an Instance of the ElasticNet model"
   ]
  },
  {
   "cell_type": "code",
   "execution_count": 18,
   "metadata": {
    "execution": {
     "iopub.execute_input": "2023-03-19T13:23:31.076398Z",
     "iopub.status.busy": "2023-03-19T13:23:31.075986Z",
     "iopub.status.idle": "2023-03-19T13:23:31.082654Z",
     "shell.execute_reply": "2023-03-19T13:23:31.081455Z",
     "shell.execute_reply.started": "2023-03-19T13:23:31.076341Z"
    }
   },
   "outputs": [],
   "source": [
    "base_elastic_model = ElasticNet(max_iter=1000000)"
   ]
  },
  {
   "cell_type": "code",
   "execution_count": 19,
   "metadata": {
    "execution": {
     "iopub.execute_input": "2023-03-19T13:23:36.396915Z",
     "iopub.status.busy": "2023-03-19T13:23:36.396538Z",
     "iopub.status.idle": "2023-03-19T13:23:36.403387Z",
     "shell.execute_reply": "2023-03-19T13:23:36.401941Z",
     "shell.execute_reply.started": "2023-03-19T13:23:36.396882Z"
    }
   },
   "outputs": [],
   "source": [
    "param_grid = {'alpha':[0.1,1,5,10,100],'l1_ratio':[.1,.7,.99,1]}"
   ]
  },
  {
   "cell_type": "code",
   "execution_count": 20,
   "metadata": {
    "execution": {
     "iopub.execute_input": "2023-03-19T13:23:39.546721Z",
     "iopub.status.busy": "2023-03-19T13:23:39.546341Z",
     "iopub.status.idle": "2023-03-19T13:23:39.553050Z",
     "shell.execute_reply": "2023-03-19T13:23:39.550938Z",
     "shell.execute_reply.started": "2023-03-19T13:23:39.546687Z"
    }
   },
   "outputs": [],
   "source": [
    "from sklearn.model_selection import GridSearchCV"
   ]
  },
  {
   "cell_type": "code",
   "execution_count": 21,
   "metadata": {
    "execution": {
     "iopub.execute_input": "2023-03-19T13:23:42.686205Z",
     "iopub.status.busy": "2023-03-19T13:23:42.685791Z",
     "iopub.status.idle": "2023-03-19T13:23:42.692143Z",
     "shell.execute_reply": "2023-03-19T13:23:42.690997Z",
     "shell.execute_reply.started": "2023-03-19T13:23:42.686169Z"
    }
   },
   "outputs": [],
   "source": [
    "grid_model = GridSearchCV(base_elastic_model,param_grid=param_grid,scoring='neg_mean_squared_error',\n",
    "                         cv=5,verbose=1)"
   ]
  },
  {
   "cell_type": "code",
   "execution_count": 22,
   "metadata": {
    "execution": {
     "iopub.execute_input": "2023-03-19T13:23:49.885723Z",
     "iopub.status.busy": "2023-03-19T13:23:49.885262Z",
     "iopub.status.idle": "2023-03-19T13:28:50.452470Z",
     "shell.execute_reply": "2023-03-19T13:28:50.451213Z",
     "shell.execute_reply.started": "2023-03-19T13:23:49.885680Z"
    }
   },
   "outputs": [
    {
     "name": "stdout",
     "output_type": "stream",
     "text": [
      "Fitting 5 folds for each of 20 candidates, totalling 100 fits\n"
     ]
    },
    {
     "data": {
      "text/plain": [
       "GridSearchCV(cv=5, estimator=ElasticNet(max_iter=1000000),\n",
       "             param_grid={'alpha': [0.1, 1, 5, 10, 100],\n",
       "                         'l1_ratio': [0.1, 0.7, 0.99, 1]},\n",
       "             scoring='neg_mean_squared_error', verbose=1)"
      ]
     },
     "execution_count": 22,
     "metadata": {},
     "output_type": "execute_result"
    }
   ],
   "source": [
    "grid_model.fit(scaled_X_train,y_train)"
   ]
  },
  {
   "cell_type": "markdown",
   "metadata": {},
   "source": [
    "#### Let's See the best hyperparameter combination"
   ]
  },
  {
   "cell_type": "code",
   "execution_count": 23,
   "metadata": {
    "execution": {
     "iopub.execute_input": "2023-03-19T13:36:20.358304Z",
     "iopub.status.busy": "2023-03-19T13:36:20.357904Z",
     "iopub.status.idle": "2023-03-19T13:36:20.365726Z",
     "shell.execute_reply": "2023-03-19T13:36:20.364296Z",
     "shell.execute_reply.started": "2023-03-19T13:36:20.358267Z"
    }
   },
   "outputs": [
    {
     "data": {
      "text/plain": [
       "ElasticNet(alpha=100, l1_ratio=1, max_iter=1000000)"
      ]
     },
     "execution_count": 23,
     "metadata": {},
     "output_type": "execute_result"
    }
   ],
   "source": [
    "grid_model.best_estimator_"
   ]
  },
  {
   "cell_type": "markdown",
   "metadata": {},
   "source": [
    "#### Then we are to evaluate our model's performance on the 10% per"
   ]
  },
  {
   "cell_type": "code",
   "execution_count": 24,
   "metadata": {
    "execution": {
     "iopub.execute_input": "2023-03-19T13:57:00.928861Z",
     "iopub.status.busy": "2023-03-19T13:57:00.928465Z",
     "iopub.status.idle": "2023-03-19T13:57:00.935435Z",
     "shell.execute_reply": "2023-03-19T13:57:00.934205Z",
     "shell.execute_reply.started": "2023-03-19T13:57:00.928828Z"
    }
   },
   "outputs": [],
   "source": [
    "y_pred = grid_model.predict(scaled_X_test)"
   ]
  },
  {
   "cell_type": "code",
   "execution_count": 25,
   "metadata": {
    "execution": {
     "iopub.execute_input": "2023-03-19T14:12:30.880968Z",
     "iopub.status.busy": "2023-03-19T14:12:30.880572Z",
     "iopub.status.idle": "2023-03-19T14:12:30.886484Z",
     "shell.execute_reply": "2023-03-19T14:12:30.884664Z",
     "shell.execute_reply.started": "2023-03-19T14:12:30.880938Z"
    }
   },
   "outputs": [],
   "source": [
    "from sklearn.metrics import mean_absolute_error,mean_squared_error"
   ]
  },
  {
   "cell_type": "code",
   "execution_count": 26,
   "metadata": {
    "execution": {
     "iopub.execute_input": "2023-03-19T14:14:32.981795Z",
     "iopub.status.busy": "2023-03-19T14:14:32.981429Z",
     "iopub.status.idle": "2023-03-19T14:14:32.989352Z",
     "shell.execute_reply": "2023-03-19T14:14:32.988338Z",
     "shell.execute_reply.started": "2023-03-19T14:14:32.981759Z"
    }
   },
   "outputs": [
    {
     "data": {
      "text/plain": [
       "14726.898588147418"
      ]
     },
     "execution_count": 26,
     "metadata": {},
     "output_type": "execute_result"
    }
   ],
   "source": [
    "mean_absolute_error(y_test,y_pred)"
   ]
  },
  {
   "cell_type": "code",
   "execution_count": 27,
   "metadata": {
    "execution": {
     "iopub.execute_input": "2023-03-19T14:16:07.399662Z",
     "iopub.status.busy": "2023-03-19T14:16:07.399266Z",
     "iopub.status.idle": "2023-03-19T14:16:07.407968Z",
     "shell.execute_reply": "2023-03-19T14:16:07.406679Z",
     "shell.execute_reply.started": "2023-03-19T14:16:07.399633Z"
    }
   },
   "outputs": [
    {
     "data": {
      "text/plain": [
       "21690.500001787816"
      ]
     },
     "execution_count": 27,
     "metadata": {},
     "output_type": "execute_result"
    }
   ],
   "source": [
    "np.sqrt(mean_squared_error(y_test,y_pred))"
   ]
  },
  {
   "cell_type": "markdown",
   "metadata": {},
   "source": [
    "#### How do we know if this is actually are good error value for our predictions"
   ]
  },
  {
   "cell_type": "code",
   "execution_count": 28,
   "metadata": {
    "execution": {
     "iopub.execute_input": "2023-03-19T14:18:06.104227Z",
     "iopub.status.busy": "2023-03-19T14:18:06.103778Z",
     "iopub.status.idle": "2023-03-19T14:18:06.114505Z",
     "shell.execute_reply": "2023-03-19T14:18:06.112606Z",
     "shell.execute_reply.started": "2023-03-19T14:18:06.104187Z"
    }
   },
   "outputs": [
    {
     "data": {
      "text/plain": [
       "180815.53743589742"
      ]
     },
     "execution_count": 28,
     "metadata": {},
     "output_type": "execute_result"
    }
   ],
   "source": [
    "np.mean(df['SalePrice'])"
   ]
  },
  {
   "cell_type": "markdown",
   "metadata": {},
   "source": [
    "#### * This is about 11 percent error in the model predictions"
   ]
  },
  {
   "cell_type": "markdown",
   "metadata": {},
   "source": [
    "Saving The model"
   ]
  },
  {
   "cell_type": "code",
   "execution_count": 43,
   "metadata": {},
   "outputs": [],
   "source": [
    "import joblib"
   ]
  },
  {
   "cell_type": "code",
   "execution_count": 44,
   "metadata": {},
   "outputs": [
    {
     "data": {
      "text/plain": [
       "['house_price_prediction.joblib']"
      ]
     },
     "execution_count": 44,
     "metadata": {},
     "output_type": "execute_result"
    }
   ],
   "source": [
    "joblib.dump(grid_model,\"house_price_prediction.joblib\")"
   ]
  },
  {
   "cell_type": "code",
   "execution_count": null,
   "metadata": {},
   "outputs": [],
   "source": []
  }
 ],
 "metadata": {
  "kernelspec": {
   "display_name": "Python 3 (ipykernel)",
   "language": "python",
   "name": "python3"
  },
  "language_info": {
   "codemirror_mode": {
    "name": "ipython",
    "version": 3
   },
   "file_extension": ".py",
   "mimetype": "text/x-python",
   "name": "python",
   "nbconvert_exporter": "python",
   "pygments_lexer": "ipython3",
   "version": "3.9.13"
  }
 },
 "nbformat": 4,
 "nbformat_minor": 4
}
